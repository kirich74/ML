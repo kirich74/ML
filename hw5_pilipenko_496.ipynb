{
 "cells": [
  {
   "cell_type": "markdown",
   "metadata": {},
   "source": [
    "# Simple q-learning agent with experience replay\n",
    "\n",
    "We re-write q-learning algorithm using _agentnet_ - a helper for lasagne that implements some RL techniques."
   ]
  },
  {
   "cell_type": "code",
   "execution_count": 7,
   "metadata": {},
   "outputs": [
    {
     "name": "stdout",
     "output_type": "stream",
     "text": [
      "Collecting https://github.com/yandexdataschool/AgentNet/archive/master.zip\n",
      "  Downloading https://github.com/yandexdataschool/AgentNet/archive/master.zip\n",
      "\u001b[K     - 11.7MB 1.1MB/s\n",
      "Requirement already up-to-date: six in /home/kirill/.local/lib/python2.7/site-packages (from agentnet==0.10.6)\n",
      "Collecting lasagne (from agentnet==0.10.6)\n",
      "Collecting theano>=0.8.2 (from agentnet==0.10.6)\n",
      "Requirement already up-to-date: numpy>=1.9 in /home/kirill/.local/lib/python2.7/site-packages (from agentnet==0.10.6)\n",
      "Collecting scipy>=0.14 (from theano>=0.8.2->agentnet==0.10.6)\n",
      "  Using cached scipy-1.0.0-cp27-cp27mu-manylinux1_x86_64.whl\n",
      "Installing collected packages: lasagne, scipy, theano, agentnet\n",
      "  Found existing installation: scipy 0.19.1\n",
      "    Uninstalling scipy-0.19.1:\n",
      "      Successfully uninstalled scipy-0.19.1\n",
      "  Running setup.py install for agentnet ... \u001b[?25ldone\n",
      "\u001b[?25hSuccessfully installed agentnet-0.10.6 lasagne-0.1 scipy-1.0.0 theano-1.0.1\n"
     ]
    }
   ],
   "source": [
    "! pip install --upgrade https://github.com/yandexdataschool/AgentNet/archive/master.zip"
   ]
  },
  {
   "cell_type": "code",
   "execution_count": 24,
   "metadata": {},
   "outputs": [
    {
     "name": "stdout",
     "output_type": "stream",
     "text": [
      "env: THEANO_FLAGS='floatX=float32'\n"
     ]
    }
   ],
   "source": [
    "import matplotlib.pyplot as plt\n",
    "%matplotlib inline\n",
    "import numpy as np\n",
    "%env THEANO_FLAGS='floatX=float32'\n",
    "\n",
    "#XVFB will be launched if you run on a server\n",
    "import os\n",
    "if type(os.environ.get(\"DISPLAY\")) is not str or len(os.environ.get(\"DISPLAY\"))==0:\n",
    "    !bash ../xvfb start\n",
    "    %env DISPLAY=:1"
   ]
  },
  {
   "cell_type": "markdown",
   "metadata": {},
   "source": [
    "### Experiment setup\n",
    "* Here we simply load the game and check that it works"
   ]
  },
  {
   "cell_type": "code",
   "execution_count": 25,
   "metadata": {},
   "outputs": [],
   "source": [
    "import gym\n",
    "make_env = lambda: gym.make(\"LunarLander-v2\")\n",
    "\n",
    "env=make_env()\n",
    "env.reset()\n",
    "\n",
    "state_shape = env.observation_space.shape\n",
    "n_actions = env.action_space.n"
   ]
  },
  {
   "cell_type": "code",
   "execution_count": 26,
   "metadata": {},
   "outputs": [
    {
     "data": {
      "image/png": "[encoded data removed]",
      "text/plain": [
       "<matplotlib.figure.Figure at 0x7fb045e9a6d0>"
      ]
     },
     "metadata": {},
     "output_type": "display_data"
    }
   ],
   "source": [
    "plt.imshow(env.render(\"rgb_array\"))\n",
    "del env"
   ]
  },
  {
   "cell_type": "markdown",
   "metadata": {},
   "source": [
    "# Neural Network body"
   ]
  },
  {
   "cell_type": "code",
   "execution_count": 27,
   "metadata": {},
   "outputs": [],
   "source": [
    "import theano\n",
    "import lasagne\n",
    "from lasagne.layers import *\n",
    "from lasagne.nonlinearities import *\n",
    "\n",
    "\n",
    "#image observation at current tick goes here, shape = (sample_i,x,y,color)\n",
    "observation_layer = InputLayer((None,)+state_shape)\n",
    "\n",
    "nn = DenseLayer(observation_layer, 200, nonlinearity=elu)\n",
    "nn = DenseLayer(nn, 200, nonlinearity=elu)\n",
    "\n",
    "#a layer that predicts Qvalues\n",
    "qvalues_layer = DenseLayer(nn,num_units=n_actions,\n",
    "                           nonlinearity=None,name=\"q-values\")"
   ]
  },
  {
   "cell_type": "markdown",
   "metadata": {},
   "source": [
    "Picking actions is done by yet another layer, that implements $ \\epsilon$ -greedy policy"
   ]
  },
  {
   "cell_type": "code",
   "execution_count": 28,
   "metadata": {},
   "outputs": [],
   "source": [
    "from agentnet.resolver import EpsilonGreedyResolver\n",
    "action_layer = EpsilonGreedyResolver(qvalues_layer)\n",
    "\n",
    "#set starting epsilon\n",
    "action_layer.epsilon.set_value(np.float32(0.05))"
   ]
  },
  {
   "cell_type": "markdown",
   "metadata": {},
   "source": [
    "### Agent\n",
    "\n",
    "We define an agent entirely composed of a lasagne network:\n",
    "* Observations as InputLayer(s)\n",
    "* Actions as intermediate Layer(s)\n",
    "* `policy_estimators` is \"whatever else you want to keep track of\"\n",
    "\n",
    "Each parameter can be either one layer or a list of layers"
   ]
  },
  {
   "cell_type": "code",
   "execution_count": 38,
   "metadata": {},
   "outputs": [],
   "source": [
    "from agentnet.agent import Agent\n",
    "agent = Agent(observation_layers=observation_layer,\n",
    "              action_layers=action_layer,\n",
    "              policy_estimators=qvalues_layer,)"
   ]
  },
  {
   "cell_type": "code",
   "execution_count": 39,
   "metadata": {},
   "outputs": [
    {
     "data": {
      "text/plain": [
       "[W, b, W, b, q-values.W, q-values.b]"
      ]
     },
     "execution_count": 39,
     "metadata": {},
     "output_type": "execute_result"
    }
   ],
   "source": [
    "#Since it's a single lasagne network, one can get it's weights, output, etc\n",
    "weights = lasagne.layers.get_all_params(action_layer,trainable=True)\n",
    "weights"
   ]
  },
  {
   "cell_type": "markdown",
   "metadata": {},
   "source": [
    "# Create and manage a pool of atari sessions to play with\n",
    "\n",
    "* To make training more stable, we shall have an entire batch of game sessions each happening independent of others\n",
    "* Why several parallel agents help training: http://arxiv.org/pdf/1602.01783v1.pdf\n",
    "* Alternative approach: store more sessions: https://www.cs.toronto.edu/~vmnih/docs/dqn.pdf"
   ]
  },
  {
   "cell_type": "code",
   "execution_count": 92,
   "metadata": {},
   "outputs": [],
   "source": [
    "from agentnet.experiments.openai_gym.pool import EnvPool\n",
    "pool = EnvPool(agent,make_env,n_games=1,max_size=10000)"
   ]
  },
  {
   "cell_type": "code",
   "execution_count": 93,
   "metadata": {},
   "outputs": [
    {
     "name": "stdout",
     "output_type": "stream",
     "text": [
      "('actions:', array([[1, 1, 1, 1, 3]]))\n",
      "('rewards:', array([[-0.50298191, -0.409856  , -0.28514893, -0.14191915,  0.        ]]))\n",
      "CPU times: user 4 ms, sys: 16 ms, total: 20 ms\n",
      "Wall time: 6.21 ms\n"
     ]
    }
   ],
   "source": [
    "%%time\n",
    "#interact for 7 ticks\n",
    "obs_log,action_log,reward_log,_,_,_  = pool.interact(5)\n",
    "\n",
    "\n",
    "print('actions:',action_log)\n",
    "print('rewards:',reward_log)"
   ]
  },
  {
   "cell_type": "code",
   "execution_count": 94,
   "metadata": {
    "collapsed": true
   },
   "outputs": [],
   "source": [
    "#we'll train on rollouts of 10 steps (required by n-step algorithms and rnns later)\n",
    "SEQ_LENGTH=10\n",
    "\n",
    "#load first sessions (this function calls interact and stores sessions in the pool)\n",
    "\n",
    "for _ in range(100):\n",
    "    pool.update(SEQ_LENGTH)"
   ]
  },
  {
   "cell_type": "markdown",
   "metadata": {},
   "source": [
    "# q-learning\n",
    "\n",
    "We shall now define a function that replays recent game sessions and updates network weights"
   ]
  },
  {
   "cell_type": "code",
   "execution_count": 95,
   "metadata": {
    "collapsed": true
   },
   "outputs": [],
   "source": [
    "#get agent's Qvalues obtained via experience replay\n",
    "replay = pool.experience_replay.sample_session_batch(100)\n",
    "qvalues_seq = agent.get_sessions(\n",
    "    replay,\n",
    "    session_length=SEQ_LENGTH,\n",
    "    experience_replay=True,\n",
    ")[-1]\n"
   ]
  },
  {
   "cell_type": "code",
   "execution_count": 96,
   "metadata": {
    "collapsed": true
   },
   "outputs": [],
   "source": [
    "#loss for Qlearning = (Q(s,a) - (r+gamma*Q(s',a_max)))^2, like you implemented before in lasagne.\n",
    "\n",
    "from agentnet.learning import qlearning\n",
    "elwise_mse_loss = qlearning.get_elementwise_objective(qvalues_seq,\n",
    "                                                      replay.actions[0],\n",
    "                                                      replay.rewards,\n",
    "                                                      replay.is_alive,\n",
    "                                                      gamma_or_gammas=0.99,\n",
    "                                                      n_steps=1,)\n",
    "\n",
    "#compute mean loss over \"alive\" fragments\n",
    "loss = elwise_mse_loss.sum() / replay.is_alive.sum()"
   ]
  },
  {
   "cell_type": "code",
   "execution_count": 97,
   "metadata": {
    "collapsed": true
   },
   "outputs": [],
   "source": [
    "#get weight updates\n",
    "updates = lasagne.updates.adam(loss,weights,learning_rate=1e-4)\n",
    "\n",
    "#compile train function\n",
    "import theano\n",
    "train_step = theano.function([],loss,updates=updates)"
   ]
  },
  {
   "cell_type": "markdown",
   "metadata": {},
   "source": [
    "# Demo run\n",
    "\n",
    "Play full session with an untrained agent"
   ]
  },
  {
   "cell_type": "code",
   "execution_count": 99,
   "metadata": {},
   "outputs": [
    {
     "name": "stdout",
     "output_type": "stream",
     "text": [
      "Episode finished after 70 timesteps with reward=-576.763114675\n"
     ]
    }
   ],
   "source": [
    "#for MountainCar-v0 evaluation session is cropped to 200 ticks\n",
    "untrained_reward = pool.evaluate(save_path=\"./records\",record_video=True)"
   ]
  },
  {
   "cell_type": "code",
   "execution_count": 100,
   "metadata": {},
   "outputs": [
    {
     "data": {
      "text/html": [
       "\n",
       "<video width=\"640\" height=\"480\" controls>\n",
       "  <source src=\"./records/openaigym.video.9.17575.video000000.mp4\" type=\"video/mp4\">\n",
       "</video>\n"
      ],
      "text/plain": [
       "<IPython.core.display.HTML object>"
      ]
     },
     "execution_count": 100,
     "metadata": {},
     "output_type": "execute_result"
    }
   ],
   "source": [
    "#show video\n",
    "from IPython.display import HTML\n",
    "import os\n",
    "\n",
    "video_names = list(filter(lambda s:s.endswith(\".mp4\"),os.listdir(\"./records/\")))\n",
    "\n",
    "HTML(\"\"\"\n",
    "<video width=\"640\" height=\"480\" controls>\n",
    "  <source src=\"{}\" type=\"video/mp4\">\n",
    "</video>\n",
    "\"\"\".format(\"./records/\"+video_names[-1])) #this may or may not be _last_ video. Try other indices"
   ]
  },
  {
   "cell_type": "markdown",
   "metadata": {},
   "source": [
    "# Training loop"
   ]
  },
  {
   "cell_type": "code",
   "execution_count": 103,
   "metadata": {
    "collapsed": true
   },
   "outputs": [],
   "source": [
    "epoch_counter = 1 #starting epoch\n",
    "rewards = {} #full game rewards\n",
    "target_score = 0"
   ]
  },
  {
   "cell_type": "code",
   "execution_count": 105,
   "metadata": {
    "scrolled": true
   },
   "outputs": [
    {
     "name": "stderr",
     "output_type": "stream",
     "text": [
      "  1%|          | 100/10000 [00:20<33:19,  4.95it/s]"
     ]
    },
    {
     "name": "stdout",
     "output_type": "stream",
     "text": [
      "Episode finished after 108 timesteps with reward=-402.39785782\n",
      "Episode finished after 124 timesteps with reward=-477.157399279\n",
      "Episode finished after 76 timesteps with reward=-401.645244538\n",
      "iter=100\tepsilon=0.910\n",
      "Current score(mean over 3) = -427.067\n"
     ]
    },
    {
     "name": "stderr",
     "output_type": "stream",
     "text": [
      "  2%|▏         | 200/10000 [00:40<33:18,  4.90it/s]"
     ]
    },
    {
     "name": "stdout",
     "output_type": "stream",
     "text": [
      "Episode finished after 100 timesteps with reward=-218.606059117\n",
      "Episode finished after 87 timesteps with reward=-153.458055149\n",
      "Episode finished after 83 timesteps with reward=-210.301754073\n",
      "iter=200\tepsilon=0.828\n",
      "Current score(mean over 3) = -194.122\n"
     ]
    },
    {
     "name": "stderr",
     "output_type": "stream",
     "text": [
      "  3%|▎         | 300/10000 [01:06<35:52,  4.51it/s]"
     ]
    },
    {
     "name": "stdout",
     "output_type": "stream",
     "text": [
      "Episode finished after 110 timesteps with reward=-124.720306735\n",
      "Episode finished after 100 timesteps with reward=-515.49958591\n",
      "Episode finished after 165 timesteps with reward=-102.486760469\n",
      "iter=300\tepsilon=0.754\n",
      "Current score(mean over 3) = -247.569\n"
     ]
    },
    {
     "name": "stderr",
     "output_type": "stream",
     "text": [
      "  4%|▍         | 400/10000 [01:34<37:59,  4.21it/s]"
     ]
    },
    {
     "name": "stdout",
     "output_type": "stream",
     "text": [
      "Episode finished after 83 timesteps with reward=-340.635886132\n",
      "Episode finished after 102 timesteps with reward=-467.327714406\n",
      "Episode finished after 94 timesteps with reward=-167.44157566\n",
      "iter=400\tepsilon=0.687\n",
      "Current score(mean over 3) = -325.135\n"
     ]
    },
    {
     "name": "stderr",
     "output_type": "stream",
     "text": [
      "  5%|▌         | 500/10000 [02:05<39:47,  3.98it/s]"
     ]
    },
    {
     "name": "stdout",
     "output_type": "stream",
     "text": [
      "Episode finished after 84 timesteps with reward=-527.644907558\n",
      "Episode finished after 81 timesteps with reward=-236.626373285\n",
      "Episode finished after 63 timesteps with reward=-265.521793697\n",
      "iter=500\tepsilon=0.626\n",
      "Current score(mean over 3) = -343.264\n"
     ]
    },
    {
     "name": "stderr",
     "output_type": "stream",
     "text": [
      "  6%|▌         | 600/10000 [02:34<40:20,  3.88it/s]"
     ]
    },
    {
     "name": "stdout",
     "output_type": "stream",
     "text": [
      "Episode finished after 159 timesteps with reward=-545.768530012\n",
      "Episode finished after 140 timesteps with reward=-344.315581896\n",
      "Episode finished after 171 timesteps with reward=-370.445128542\n",
      "iter=600\tepsilon=0.571\n",
      "Current score(mean over 3) = -420.176\n"
     ]
    },
    {
     "name": "stderr",
     "output_type": "stream",
     "text": [
      "  7%|▋         | 699/10000 [03:02<40:23,  3.84it/s]"
     ]
    },
    {
     "name": "stdout",
     "output_type": "stream",
     "text": [
      "Episode finished after 150 timesteps with reward=-617.675344665\n"
     ]
    },
    {
     "name": "stderr",
     "output_type": "stream",
     "text": [
      "\r",
      "  7%|▋         | 700/10000 [03:03<40:31,  3.82it/s]"
     ]
    },
    {
     "name": "stdout",
     "output_type": "stream",
     "text": [
      "Episode finished after 276 timesteps with reward=-520.147969678\n",
      "Episode finished after 160 timesteps with reward=-517.834420346\n",
      "iter=700\tepsilon=0.522\n",
      "Current score(mean over 3) = -551.886\n"
     ]
    },
    {
     "name": "stderr",
     "output_type": "stream",
     "text": [
      "  8%|▊         | 799/10000 [03:31<40:35,  3.78it/s]"
     ]
    },
    {
     "name": "stdout",
     "output_type": "stream",
     "text": [
      "Episode finished after 107 timesteps with reward=-587.641399394\n",
      "Episode finished after 151 timesteps with reward=-339.320153566\n"
     ]
    },
    {
     "name": "stderr",
     "output_type": "stream",
     "text": [
      "\r",
      "  8%|▊         | 800/10000 [03:32<40:40,  3.77it/s]"
     ]
    },
    {
     "name": "stdout",
     "output_type": "stream",
     "text": [
      "Episode finished after 160 timesteps with reward=-204.57106142\n",
      "iter=800\tepsilon=0.477\n",
      "Current score(mean over 3) = -377.178\n"
     ]
    },
    {
     "name": "stderr",
     "output_type": "stream",
     "text": [
      "  9%|▉         | 900/10000 [04:00<40:33,  3.74it/s]"
     ]
    },
    {
     "name": "stdout",
     "output_type": "stream",
     "text": [
      "Episode finished after 187 timesteps with reward=-523.192347531\n",
      "Episode finished after 88 timesteps with reward=-594.807327959\n",
      "Episode finished after 93 timesteps with reward=-284.478204603\n",
      "iter=900\tepsilon=0.436\n",
      "Current score(mean over 3) = -467.493\n"
     ]
    },
    {
     "name": "stderr",
     "output_type": "stream",
     "text": [
      " 10%|▉         | 999/10000 [04:28<40:17,  3.72it/s]"
     ]
    },
    {
     "name": "stdout",
     "output_type": "stream",
     "text": [
      "Episode finished after 189 timesteps with reward=-604.222750978\n",
      "Episode finished after 257 timesteps with reward=-396.007481422\n"
     ]
    },
    {
     "name": "stderr",
     "output_type": "stream",
     "text": [
      "\r",
      " 10%|█         | 1000/10000 [04:29<40:28,  3.71it/s]"
     ]
    },
    {
     "name": "stdout",
     "output_type": "stream",
     "text": [
      "Episode finished after 266 timesteps with reward=-434.580502226\n",
      "iter=1000\tepsilon=0.399\n",
      "Current score(mean over 3) = -478.270\n"
     ]
    },
    {
     "name": "stderr",
     "output_type": "stream",
     "text": [
      " 11%|█         | 1099/10000 [05:00<40:35,  3.66it/s]"
     ]
    },
    {
     "name": "stdout",
     "output_type": "stream",
     "text": [
      "Episode finished after 106 timesteps with reward=-272.037960311\n",
      "Episode finished after 170 timesteps with reward=-318.406843155\n"
     ]
    },
    {
     "name": "stderr",
     "output_type": "stream",
     "text": [
      "\r",
      " 11%|█         | 1100/10000 [05:01<40:37,  3.65it/s]"
     ]
    },
    {
     "name": "stdout",
     "output_type": "stream",
     "text": [
      "Episode finished after 161 timesteps with reward=-756.053199254\n",
      "iter=1100\tepsilon=0.366\n",
      "Current score(mean over 3) = -448.833\n"
     ]
    },
    {
     "name": "stderr",
     "output_type": "stream",
     "text": [
      " 12%|█▏        | 1199/10000 [05:33<40:49,  3.59it/s]"
     ]
    },
    {
     "name": "stdout",
     "output_type": "stream",
     "text": [
      "Episode finished after 295 timesteps with reward=-439.846018048\n",
      "Episode finished after 215 timesteps with reward=-640.9889653\n"
     ]
    },
    {
     "name": "stderr",
     "output_type": "stream",
     "text": [
      "\r",
      " 12%|█▏        | 1200/10000 [05:34<40:55,  3.58it/s]"
     ]
    },
    {
     "name": "stdout",
     "output_type": "stream",
     "text": [
      "Episode finished after 109 timesteps with reward=-210.81873429\n",
      "iter=1200\tepsilon=0.336\n",
      "Current score(mean over 3) = -430.551\n"
     ]
    },
    {
     "name": "stderr",
     "output_type": "stream",
     "text": [
      " 13%|█▎        | 1299/10000 [06:09<41:15,  3.52it/s]"
     ]
    },
    {
     "name": "stdout",
     "output_type": "stream",
     "text": [
      "Episode finished after 73 timesteps with reward=-471.552491377\n",
      "Episode finished after 128 timesteps with reward=-351.694255663\n"
     ]
    },
    {
     "name": "stderr",
     "output_type": "stream",
     "text": [
      "\r",
      " 13%|█▎        | 1300/10000 [06:10<41:17,  3.51it/s]"
     ]
    },
    {
     "name": "stdout",
     "output_type": "stream",
     "text": [
      "Episode finished after 253 timesteps with reward=-322.725391736\n",
      "iter=1300\tepsilon=0.309\n",
      "Current score(mean over 3) = -381.991\n"
     ]
    },
    {
     "name": "stderr",
     "output_type": "stream",
     "text": [
      " 14%|█▍        | 1399/10000 [06:44<41:29,  3.45it/s]"
     ]
    },
    {
     "name": "stdout",
     "output_type": "stream",
     "text": [
      "Episode finished after 202 timesteps with reward=-702.179798468\n",
      "Episode finished after 180 timesteps with reward=-623.614948511\n"
     ]
    },
    {
     "name": "stderr",
     "output_type": "stream",
     "text": [
      "\r",
      " 14%|█▍        | 1400/10000 [06:46<41:34,  3.45it/s]"
     ]
    },
    {
     "name": "stdout",
     "output_type": "stream",
     "text": [
      "Episode finished after 216 timesteps with reward=-397.514114305\n",
      "iter=1400\tepsilon=0.284\n",
      "Current score(mean over 3) = -574.436\n"
     ]
    },
    {
     "name": "stderr",
     "output_type": "stream",
     "text": [
      " 15%|█▍        | 1499/10000 [07:22<41:51,  3.38it/s]"
     ]
    },
    {
     "name": "stdout",
     "output_type": "stream",
     "text": [
      "Episode finished after 93 timesteps with reward=-332.491835683\n",
      "Episode finished after 93 timesteps with reward=-405.51473953\n"
     ]
    },
    {
     "name": "stderr",
     "output_type": "stream",
     "text": [
      "\r",
      " 15%|█▌        | 1500/10000 [07:23<41:54,  3.38it/s]"
     ]
    },
    {
     "name": "stdout",
     "output_type": "stream",
     "text": [
      "Episode finished after 124 timesteps with reward=-520.56378346\n",
      "iter=1500\tepsilon=0.262\n",
      "Current score(mean over 3) = -419.523\n"
     ]
    },
    {
     "name": "stderr",
     "output_type": "stream",
     "text": [
      " 16%|█▌        | 1599/10000 [07:58<41:54,  3.34it/s]"
     ]
    },
    {
     "name": "stdout",
     "output_type": "stream",
     "text": [
      "Episode finished after 155 timesteps with reward=-527.814378686\n",
      "Episode finished after 114 timesteps with reward=-613.97677293\n"
     ]
    },
    {
     "name": "stderr",
     "output_type": "stream",
     "text": [
      "\r",
      " 16%|█▌        | 1600/10000 [07:59<41:58,  3.33it/s]"
     ]
    },
    {
     "name": "stdout",
     "output_type": "stream",
     "text": [
      "Episode finished after 132 timesteps with reward=-302.039280308\n",
      "iter=1600\tepsilon=0.242\n",
      "Current score(mean over 3) = -481.277\n"
     ]
    },
    {
     "name": "stderr",
     "output_type": "stream",
     "text": [
      " 17%|█▋        | 1700/10000 [08:33<41:45,  3.31it/s]"
     ]
    },
    {
     "name": "stdout",
     "output_type": "stream",
     "text": [
      "Episode finished after 103 timesteps with reward=-572.163948413\n",
      "Episode finished after 142 timesteps with reward=-440.518508754\n",
      "Episode finished after 136 timesteps with reward=-177.377328222\n",
      "iter=1700\tepsilon=0.224\n",
      "Current score(mean over 3) = -396.687\n"
     ]
    },
    {
     "name": "stderr",
     "output_type": "stream",
     "text": [
      " 18%|█▊        | 1799/10000 [09:06<41:31,  3.29it/s]"
     ]
    },
    {
     "name": "stdout",
     "output_type": "stream",
     "text": [
      "Episode finished after 227 timesteps with reward=-331.802935974\n",
      "Episode finished after 212 timesteps with reward=-311.440884942\n"
     ]
    },
    {
     "name": "stderr",
     "output_type": "stream",
     "text": [
      "\r",
      " 18%|█▊        | 1800/10000 [09:09<41:42,  3.28it/s]"
     ]
    },
    {
     "name": "stdout",
     "output_type": "stream",
     "text": [
      "Episode finished after 274 timesteps with reward=-269.158655694\n",
      "iter=1800\tepsilon=0.207\n",
      "Current score(mean over 3) = -304.134\n"
     ]
    },
    {
     "name": "stderr",
     "output_type": "stream",
     "text": [
      " 19%|█▉        | 1899/10000 [09:39<41:13,  3.28it/s]"
     ]
    },
    {
     "name": "stdout",
     "output_type": "stream",
     "text": [
      "Episode finished after 203 timesteps with reward=-308.911095789\n",
      "Episode finished after 118 timesteps with reward=-121.072694219\n"
     ]
    },
    {
     "name": "stderr",
     "output_type": "stream",
     "text": [
      "\r",
      " 19%|█▉        | 1900/10000 [09:40<41:14,  3.27it/s]"
     ]
    },
    {
     "name": "stdout",
     "output_type": "stream",
     "text": [
      "Episode finished after 105 timesteps with reward=-120.272248076\n",
      "iter=1900\tepsilon=0.192\n",
      "Current score(mean over 3) = -183.419\n"
     ]
    },
    {
     "name": "stderr",
     "output_type": "stream",
     "text": [
      " 20%|█▉        | 1999/10000 [10:06<40:27,  3.30it/s]"
     ]
    },
    {
     "name": "stdout",
     "output_type": "stream",
     "text": [
      "Episode finished after 253 timesteps with reward=-273.315418316\n"
     ]
    },
    {
     "name": "stderr",
     "output_type": "stream",
     "text": [
      "\r",
      " 20%|██        | 2000/10000 [10:07<40:30,  3.29it/s]"
     ]
    },
    {
     "name": "stdout",
     "output_type": "stream",
     "text": [
      "Episode finished after 360 timesteps with reward=-606.246774932\n",
      "Episode finished after 213 timesteps with reward=-292.117206222\n",
      "iter=2000\tepsilon=0.179\n",
      "Current score(mean over 3) = -390.560\n"
     ]
    },
    {
     "name": "stderr",
     "output_type": "stream",
     "text": [
      " 21%|██        | 2099/10000 [10:33<39:44,  3.31it/s]"
     ]
    },
    {
     "name": "stdout",
     "output_type": "stream",
     "text": [
      "Episode finished after 266 timesteps with reward=-414.312088068\n",
      "Episode finished after 204 timesteps with reward=-318.778340053\n"
     ]
    },
    {
     "name": "stderr",
     "output_type": "stream",
     "text": [
      " 21%|██        | 2101/10000 [10:34<39:45,  3.31it/s]"
     ]
    },
    {
     "name": "stdout",
     "output_type": "stream",
     "text": [
      "Episode finished after 106 timesteps with reward=-278.636578051\n",
      "iter=2100\tepsilon=0.166\n",
      "Current score(mean over 3) = -337.242\n"
     ]
    },
    {
     "name": "stderr",
     "output_type": "stream",
     "text": [
      " 22%|██▏       | 2199/10000 [10:59<38:57,  3.34it/s]"
     ]
    },
    {
     "name": "stdout",
     "output_type": "stream",
     "text": [
      "Episode finished after 99 timesteps with reward=-207.583372503\n",
      "Episode finished after 232 timesteps with reward=-646.635955637\n"
     ]
    },
    {
     "name": "stderr",
     "output_type": "stream",
     "text": [
      " 22%|██▏       | 2201/10000 [11:00<38:59,  3.33it/s]"
     ]
    },
    {
     "name": "stdout",
     "output_type": "stream",
     "text": [
      "Episode finished after 241 timesteps with reward=-580.96009763\n",
      "iter=2200\tepsilon=0.155\n",
      "Current score(mean over 3) = -478.393\n"
     ]
    },
    {
     "name": "stderr",
     "output_type": "stream",
     "text": [
      " 23%|██▎       | 2299/10000 [11:27<38:23,  3.34it/s]"
     ]
    },
    {
     "name": "stdout",
     "output_type": "stream",
     "text": [
      "Episode finished after 76 timesteps with reward=-430.332566354\n",
      "Episode finished after 235 timesteps with reward=-405.27930311\n"
     ]
    },
    {
     "name": "stderr",
     "output_type": "stream",
     "text": [
      "\r",
      " 23%|██▎       | 2300/10000 [11:28<38:24,  3.34it/s]"
     ]
    },
    {
     "name": "stdout",
     "output_type": "stream",
     "text": [
      "Episode finished after 222 timesteps with reward=-470.63754205\n",
      "iter=2300\tepsilon=0.145\n",
      "Current score(mean over 3) = -435.416\n"
     ]
    },
    {
     "name": "stderr",
     "output_type": "stream",
     "text": [
      " 24%|██▍       | 2400/10000 [11:56<37:47,  3.35it/s]"
     ]
    },
    {
     "name": "stdout",
     "output_type": "stream",
     "text": [
      "Episode finished after 184 timesteps with reward=-402.616163878\n",
      "Episode finished after 93 timesteps with reward=-504.404850368\n",
      "Episode finished after 121 timesteps with reward=-309.706131634\n",
      "iter=2400\tepsilon=0.136\n",
      "Current score(mean over 3) = -405.576\n"
     ]
    },
    {
     "name": "stderr",
     "output_type": "stream",
     "text": [
      " 25%|██▍       | 2499/10000 [12:23<37:11,  3.36it/s]"
     ]
    },
    {
     "name": "stdout",
     "output_type": "stream",
     "text": [
      "Episode finished after 439 timesteps with reward=-223.50916627\n"
     ]
    },
    {
     "name": "stderr",
     "output_type": "stream",
     "text": [
      "\r",
      " 25%|██▌       | 2500/10000 [12:24<37:14,  3.36it/s]"
     ]
    },
    {
     "name": "stdout",
     "output_type": "stream",
     "text": [
      "Episode finished after 117 timesteps with reward=-93.7754422983\n",
      "Episode finished after 100 timesteps with reward=-204.666754776\n",
      "iter=2500\tepsilon=0.128\n",
      "Current score(mean over 3) = -173.984\n"
     ]
    },
    {
     "name": "stderr",
     "output_type": "stream",
     "text": [
      " 26%|██▌       | 2599/10000 [12:55<36:48,  3.35it/s]"
     ]
    },
    {
     "name": "stdout",
     "output_type": "stream",
     "text": [
      "Episode finished after 255 timesteps with reward=-365.050387575\n",
      "Episode finished after 333 timesteps with reward=-249.657644232\n"
     ]
    },
    {
     "name": "stderr",
     "output_type": "stream",
     "text": [
      " 26%|██▌       | 2601/10000 [12:56<36:49,  3.35it/s]"
     ]
    },
    {
     "name": "stdout",
     "output_type": "stream",
     "text": [
      "Episode finished after 367 timesteps with reward=-368.983609029\n",
      "iter=2600\tepsilon=0.121\n",
      "Current score(mean over 3) = -327.897\n"
     ]
    },
    {
     "name": "stderr",
     "output_type": "stream",
     "text": [
      " 27%|██▋       | 2699/10000 [13:13<35:46,  3.40it/s]"
     ]
    },
    {
     "name": "stdout",
     "output_type": "stream",
     "text": [
      "Episode finished after 299 timesteps with reward=-410.967796393\n",
      "Episode finished after 184 timesteps with reward=-200.994907616\n"
     ]
    },
    {
     "name": "stderr",
     "output_type": "stream",
     "text": [
      " 27%|██▋       | 2701/10000 [13:14<35:46,  3.40it/s]"
     ]
    },
    {
     "name": "stdout",
     "output_type": "stream",
     "text": [
      "Episode finished after 169 timesteps with reward=-435.898276775\n",
      "iter=2700\tepsilon=0.114\n",
      "Current score(mean over 3) = -349.287\n"
     ]
    },
    {
     "name": "stderr",
     "output_type": "stream",
     "text": [
      " 28%|██▊       | 2800/10000 [13:32<34:48,  3.45it/s]"
     ]
    },
    {
     "name": "stdout",
     "output_type": "stream",
     "text": [
      "Episode finished after 85 timesteps with reward=-234.944118125\n",
      "Episode finished after 128 timesteps with reward=-292.280919337\n",
      "Episode finished after 105 timesteps with reward=-113.995271473\n",
      "iter=2800\tepsilon=0.108\n",
      "Current score(mean over 3) = -213.740\n"
     ]
    },
    {
     "name": "stderr",
     "output_type": "stream",
     "text": [
      " 29%|██▉       | 2899/10000 [13:53<34:02,  3.48it/s]"
     ]
    },
    {
     "name": "stdout",
     "output_type": "stream",
     "text": [
      "Episode finished after 115 timesteps with reward=-136.308021789\n",
      "Episode finished after 226 timesteps with reward=-256.515002845\n"
     ]
    },
    {
     "name": "stderr",
     "output_type": "stream",
     "text": [
      " 29%|██▉       | 2901/10000 [13:54<34:02,  3.48it/s]"
     ]
    },
    {
     "name": "stdout",
     "output_type": "stream",
     "text": [
      "Episode finished after 79 timesteps with reward=-589.675531871\n",
      "iter=2900\tepsilon=0.102\n",
      "Current score(mean over 3) = -327.500\n"
     ]
    },
    {
     "name": "stderr",
     "output_type": "stream",
     "text": [
      " 30%|███       | 3000/10000 [14:14<33:13,  3.51it/s]"
     ]
    },
    {
     "name": "stdout",
     "output_type": "stream",
     "text": [
      "Episode finished after 84 timesteps with reward=-806.059172919\n",
      "Episode finished after 73 timesteps with reward=-282.698935292\n",
      "Episode finished after 69 timesteps with reward=-505.470670281\n",
      "iter=3000\tepsilon=0.097\n",
      "Current score(mean over 3) = -531.410\n"
     ]
    },
    {
     "name": "stderr",
     "output_type": "stream",
     "text": [
      " 31%|███       | 3099/10000 [14:35<32:30,  3.54it/s]"
     ]
    },
    {
     "name": "stdout",
     "output_type": "stream",
     "text": [
      "Episode finished after 213 timesteps with reward=-271.044868342\n",
      "Episode finished after 79 timesteps with reward=-602.328810688\n"
     ]
    },
    {
     "name": "stderr",
     "output_type": "stream",
     "text": [
      "\r",
      " 31%|███       | 3100/10000 [14:38<32:34,  3.53it/s]"
     ]
    },
    {
     "name": "stdout",
     "output_type": "stream",
     "text": [
      "Episode finished after 101 timesteps with reward=-545.647456686\n",
      "iter=3100\tepsilon=0.093\n",
      "Current score(mean over 3) = -473.007\n"
     ]
    },
    {
     "name": "stderr",
     "output_type": "stream",
     "text": [
      " 32%|███▏      | 3199/10000 [15:05<32:04,  3.53it/s]"
     ]
    },
    {
     "name": "stdout",
     "output_type": "stream",
     "text": [
      "Episode finished after 210 timesteps with reward=-723.922179105\n",
      "Episode finished after 93 timesteps with reward=-232.957350668\n"
     ]
    },
    {
     "name": "stderr",
     "output_type": "stream",
     "text": [
      "\r",
      " 32%|███▏      | 3200/10000 [15:05<32:05,  3.53it/s]"
     ]
    },
    {
     "name": "stdout",
     "output_type": "stream",
     "text": [
      "Episode finished after 217 timesteps with reward=-609.691368797\n",
      "iter=3200\tepsilon=0.089\n",
      "Current score(mean over 3) = -522.190\n"
     ]
    },
    {
     "name": "stderr",
     "output_type": "stream",
     "text": [
      " 33%|███▎      | 3300/10000 [15:23<31:14,  3.57it/s]"
     ]
    },
    {
     "name": "stdout",
     "output_type": "stream",
     "text": [
      "Episode finished after 230 timesteps with reward=-626.793758633\n",
      "Episode finished after 176 timesteps with reward=-642.95023489\n",
      "Episode finished after 78 timesteps with reward=-612.644355158\n",
      "iter=3300\tepsilon=0.085\n",
      "Current score(mean over 3) = -627.463\n"
     ]
    },
    {
     "name": "stderr",
     "output_type": "stream",
     "text": [
      " 34%|███▍      | 3399/10000 [15:39<30:25,  3.62it/s]"
     ]
    },
    {
     "name": "stdout",
     "output_type": "stream",
     "text": [
      "Episode finished after 170 timesteps with reward=-929.61491076\n",
      "Episode finished after 198 timesteps with reward=-1182.12903119"
     ]
    },
    {
     "name": "stderr",
     "output_type": "stream",
     "text": [
      " 34%|███▍      | 3401/10000 [15:40<30:25,  3.62it/s]"
     ]
    },
    {
     "name": "stdout",
     "output_type": "stream",
     "text": [
      "\n",
      "Episode finished after 182 timesteps with reward=-1160.77087272\n",
      "iter=3400\tepsilon=0.082\n",
      "Current score(mean over 3) = -1090.838\n"
     ]
    },
    {
     "name": "stderr",
     "output_type": "stream",
     "text": [
      " 35%|███▍      | 3499/10000 [15:57<29:39,  3.65it/s]"
     ]
    },
    {
     "name": "stdout",
     "output_type": "stream",
     "text": [
      "Episode finished after 189 timesteps with reward=-285.894856787\n"
     ]
    },
    {
     "name": "stderr",
     "output_type": "stream",
     "text": [
      "\r",
      " 35%|███▌      | 3500/10000 [15:58<29:40,  3.65it/s]"
     ]
    },
    {
     "name": "stdout",
     "output_type": "stream",
     "text": [
      "Episode finished after 182 timesteps with reward=-682.511115575\n",
      "Episode finished after 143 timesteps with reward=-486.112552801\n",
      "iter=3500\tepsilon=0.079\n",
      "Current score(mean over 3) = -484.840\n"
     ]
    },
    {
     "name": "stderr",
     "output_type": "stream",
     "text": [
      " 36%|███▌      | 3599/10000 [16:20<29:04,  3.67it/s]"
     ]
    },
    {
     "name": "stdout",
     "output_type": "stream",
     "text": [
      "Episode finished after 98 timesteps with reward=-123.872408116\n"
     ]
    },
    {
     "name": "stderr",
     "output_type": "stream",
     "text": [
      "\r",
      " 36%|███▌      | 3600/10000 [16:21<29:04,  3.67it/s]"
     ]
    },
    {
     "name": "stdout",
     "output_type": "stream",
     "text": [
      "Episode finished after 153 timesteps with reward=-530.507568155\n",
      "Episode finished after 102 timesteps with reward=-157.615858925\n",
      "iter=3600\tepsilon=0.076\n",
      "Current score(mean over 3) = -270.665\n"
     ]
    },
    {
     "name": "stderr",
     "output_type": "stream",
     "text": [
      " 37%|███▋      | 3699/10000 [16:42<28:28,  3.69it/s]"
     ]
    },
    {
     "name": "stdout",
     "output_type": "stream",
     "text": [
      "Episode finished after 187 timesteps with reward=-525.35168033\n",
      "Episode finished after 187 timesteps with reward=-627.403393828\n"
     ]
    },
    {
     "name": "stderr",
     "output_type": "stream",
     "text": [
      " 37%|███▋      | 3701/10000 [16:43<28:27,  3.69it/s]"
     ]
    },
    {
     "name": "stdout",
     "output_type": "stream",
     "text": [
      "Episode finished after 223 timesteps with reward=-575.386061981\n",
      "iter=3700\tepsilon=0.073\n",
      "Current score(mean over 3) = -576.047\n"
     ]
    },
    {
     "name": "stderr",
     "output_type": "stream",
     "text": [
      " 38%|███▊      | 3799/10000 [17:03<27:50,  3.71it/s]"
     ]
    },
    {
     "name": "stdout",
     "output_type": "stream",
     "text": [
      "Episode finished after 97 timesteps with reward=-107.096830008\n"
     ]
    },
    {
     "name": "stderr",
     "output_type": "stream",
     "text": [
      "\r",
      " 38%|███▊      | 3800/10000 [17:05<27:53,  3.70it/s]"
     ]
    },
    {
     "name": "stdout",
     "output_type": "stream",
     "text": [
      "Episode finished after 80 timesteps with reward=-152.739883983\n",
      "Episode finished after 71 timesteps with reward=-604.00253524\n",
      "iter=3800\tepsilon=0.071\n",
      "Current score(mean over 3) = -287.946\n"
     ]
    },
    {
     "name": "stderr",
     "output_type": "stream",
     "text": [
      " 39%|███▉      | 3899/10000 [17:25<27:15,  3.73it/s]"
     ]
    },
    {
     "name": "stdout",
     "output_type": "stream",
     "text": [
      "Episode finished after 205 timesteps with reward=-360.506407061\n",
      "Episode finished after 174 timesteps with reward=-266.479879484\n"
     ]
    },
    {
     "name": "stderr",
     "output_type": "stream",
     "text": [
      " 39%|███▉      | 3901/10000 [17:25<27:14,  3.73it/s]"
     ]
    },
    {
     "name": "stdout",
     "output_type": "stream",
     "text": [
      "Episode finished after 190 timesteps with reward=-602.761829471\n",
      "iter=3900\tepsilon=0.069\n",
      "Current score(mean over 3) = -409.916\n"
     ]
    },
    {
     "name": "stderr",
     "output_type": "stream",
     "text": [
      " 40%|████      | 4000/10000 [17:44<26:36,  3.76it/s]"
     ]
    },
    {
     "name": "stdout",
     "output_type": "stream",
     "text": [
      "Episode finished after 102 timesteps with reward=-306.134803912\n",
      "Episode finished after 105 timesteps with reward=-333.647631834\n",
      "Episode finished after 88 timesteps with reward=-118.785718166\n",
      "iter=4000\tepsilon=0.067\n",
      "Current score(mean over 3) = -252.856\n"
     ]
    },
    {
     "name": "stderr",
     "output_type": "stream",
     "text": [
      " 41%|████      | 4099/10000 [18:06<26:04,  3.77it/s]"
     ]
    },
    {
     "name": "stdout",
     "output_type": "stream",
     "text": [
      "Episode finished after 168 timesteps with reward=-436.943921115\n",
      "Episode finished after 174 timesteps with reward=-292.825484023\n"
     ]
    },
    {
     "name": "stderr",
     "output_type": "stream",
     "text": [
      " 41%|████      | 4101/10000 [18:07<26:04,  3.77it/s]"
     ]
    },
    {
     "name": "stdout",
     "output_type": "stream",
     "text": [
      "Episode finished after 168 timesteps with reward=-247.387341991\n",
      "iter=4100\tepsilon=0.066\n",
      "Current score(mean over 3) = -325.719\n"
     ]
    },
    {
     "name": "stderr",
     "output_type": "stream",
     "text": [
      " 42%|████▏     | 4200/10000 [18:29<25:31,  3.79it/s]"
     ]
    },
    {
     "name": "stdout",
     "output_type": "stream",
     "text": [
      "Episode finished after 201 timesteps with reward=-390.455483662\n",
      "Episode finished after 114 timesteps with reward=-278.345559797\n",
      "Episode finished after 134 timesteps with reward=-286.360269344\n",
      "iter=4200\tepsilon=0.064\n",
      "Current score(mean over 3) = -318.387\n"
     ]
    },
    {
     "name": "stderr",
     "output_type": "stream",
     "text": [
      " 43%|████▎     | 4300/10000 [18:47<24:54,  3.82it/s]"
     ]
    },
    {
     "name": "stdout",
     "output_type": "stream",
     "text": [
      "Episode finished after 76 timesteps with reward=-210.484515115\n",
      "Episode finished after 81 timesteps with reward=-489.075613254\n",
      "Episode finished after 79 timesteps with reward=-485.643078186\n",
      "iter=4300\tepsilon=0.063\n",
      "Current score(mean over 3) = -395.068\n"
     ]
    },
    {
     "name": "stderr",
     "output_type": "stream",
     "text": [
      " 44%|████▍     | 4400/10000 [19:06<24:19,  3.84it/s]"
     ]
    },
    {
     "name": "stdout",
     "output_type": "stream",
     "text": [
      "Episode finished after 90 timesteps with reward=-75.6109794617\n",
      "Episode finished after 97 timesteps with reward=-122.494277668\n",
      "Episode finished after 107 timesteps with reward=-307.699859485\n",
      "iter=4400\tepsilon=0.062\n",
      "Current score(mean over 3) = -168.602\n"
     ]
    },
    {
     "name": "stderr",
     "output_type": "stream",
     "text": [
      " 45%|████▍     | 4499/10000 [19:26<23:46,  3.86it/s]"
     ]
    },
    {
     "name": "stdout",
     "output_type": "stream",
     "text": [
      "Episode finished after 92 timesteps with reward=-203.711408182\n",
      "Episode finished after 95 timesteps with reward=-213.193016964\n"
     ]
    },
    {
     "name": "stderr",
     "output_type": "stream",
     "text": [
      "\r",
      " 45%|████▌     | 4500/10000 [19:27<23:46,  3.86it/s]"
     ]
    },
    {
     "name": "stdout",
     "output_type": "stream",
     "text": [
      "Episode finished after 90 timesteps with reward=-418.555881672\n",
      "iter=4500\tepsilon=0.061\n",
      "Current score(mean over 3) = -278.487\n"
     ]
    },
    {
     "name": "stderr",
     "output_type": "stream",
     "text": [
      " 46%|████▌     | 4600/10000 [19:51<23:18,  3.86it/s]"
     ]
    },
    {
     "name": "stdout",
     "output_type": "stream",
     "text": [
      "Episode finished after 75 timesteps with reward=-61.9519579653\n",
      "Episode finished after 129 timesteps with reward=-310.57701735\n",
      "Episode finished after 114 timesteps with reward=-334.956982942\n",
      "iter=4600\tepsilon=0.060\n",
      "Current score(mean over 3) = -235.829\n"
     ]
    },
    {
     "name": "stderr",
     "output_type": "stream",
     "text": [
      " 47%|████▋     | 4699/10000 [20:19<22:55,  3.85it/s]"
     ]
    },
    {
     "name": "stdout",
     "output_type": "stream",
     "text": [
      "Episode finished after 95 timesteps with reward=-253.094344552\n",
      "Episode finished after 80 timesteps with reward=-203.272990146\n"
     ]
    },
    {
     "name": "stderr",
     "output_type": "stream",
     "text": [
      "\r",
      " 47%|████▋     | 4700/10000 [20:19<22:55,  3.85it/s]"
     ]
    },
    {
     "name": "stdout",
     "output_type": "stream",
     "text": [
      "Episode finished after 85 timesteps with reward=-474.398945874\n",
      "iter=4700\tepsilon=0.059\n",
      "Current score(mean over 3) = -310.255\n"
     ]
    },
    {
     "name": "stderr",
     "output_type": "stream",
     "text": [
      " 48%|████▊     | 4799/10000 [20:42<22:26,  3.86it/s]"
     ]
    },
    {
     "name": "stdout",
     "output_type": "stream",
     "text": [
      "Episode finished after 70 timesteps with reward=-233.566630453\n",
      "Episode finished after 82 timesteps with reward=-200.17760912\n"
     ]
    },
    {
     "name": "stderr",
     "output_type": "stream",
     "text": [
      "\r",
      " 48%|████▊     | 4800/10000 [20:42<22:26,  3.86it/s]"
     ]
    },
    {
     "name": "stdout",
     "output_type": "stream",
     "text": [
      "Episode finished after 88 timesteps with reward=-233.737585809\n",
      "iter=4800\tepsilon=0.058\n",
      "Current score(mean over 3) = -222.494\n"
     ]
    },
    {
     "name": "stderr",
     "output_type": "stream",
     "text": [
      " 49%|████▉     | 4900/10000 [21:24<22:16,  3.82it/s]"
     ]
    },
    {
     "name": "stdout",
     "output_type": "stream",
     "text": [
      "Episode finished after 96 timesteps with reward=-332.502283556\n",
      "Episode finished after 109 timesteps with reward=-244.604382234\n",
      "Episode finished after 118 timesteps with reward=-341.78815519\n",
      "iter=4900\tepsilon=0.057\n",
      "Current score(mean over 3) = -306.298\n"
     ]
    },
    {
     "name": "stderr",
     "output_type": "stream",
     "text": [
      " 50%|█████     | 5000/10000 [21:46<21:46,  3.83it/s]"
     ]
    },
    {
     "name": "stdout",
     "output_type": "stream",
     "text": [
      "Episode finished after 75 timesteps with reward=-432.288818753\n",
      "Episode finished after 99 timesteps with reward=-59.9938008054\n",
      "Episode finished after 67 timesteps with reward=-429.689330604\n",
      "iter=5000\tepsilon=0.056\n",
      "Current score(mean over 3) = -307.324\n"
     ]
    },
    {
     "name": "stderr",
     "output_type": "stream",
     "text": [
      " 51%|█████     | 5100/10000 [22:10<21:18,  3.83it/s]"
     ]
    },
    {
     "name": "stdout",
     "output_type": "stream",
     "text": [
      "Episode finished after 67 timesteps with reward=-133.367465015\n",
      "Episode finished after 76 timesteps with reward=-141.968791704\n",
      "Episode finished after 61 timesteps with reward=-329.586305864\n",
      "iter=5100\tepsilon=0.056\n",
      "Current score(mean over 3) = -201.641\n"
     ]
    },
    {
     "name": "stderr",
     "output_type": "stream",
     "text": [
      " 52%|█████▏    | 5199/10000 [22:43<20:58,  3.81it/s]"
     ]
    },
    {
     "name": "stdout",
     "output_type": "stream",
     "text": [
      "Episode finished after 87 timesteps with reward=-374.64974177\n",
      "Episode finished after 63 timesteps with reward=-148.61863421\n"
     ]
    },
    {
     "name": "stderr",
     "output_type": "stream",
     "text": [
      "\r",
      " 52%|█████▏    | 5200/10000 [22:44<20:59,  3.81it/s]"
     ]
    },
    {
     "name": "stdout",
     "output_type": "stream",
     "text": [
      "Episode finished after 70 timesteps with reward=-357.426441836\n",
      "iter=5200\tepsilon=0.055\n",
      "Current score(mean over 3) = -293.565\n"
     ]
    },
    {
     "name": "stderr",
     "output_type": "stream",
     "text": [
      " 53%|█████▎    | 5299/10000 [23:10<20:33,  3.81it/s]"
     ]
    },
    {
     "name": "stdout",
     "output_type": "stream",
     "text": [
      "Episode finished after 75 timesteps with reward=-307.75906193\n"
     ]
    },
    {
     "name": "stderr",
     "output_type": "stream",
     "text": [
      "\r",
      " 53%|█████▎    | 5300/10000 [23:11<20:33,  3.81it/s]"
     ]
    },
    {
     "name": "stdout",
     "output_type": "stream",
     "text": [
      "Episode finished after 91 timesteps with reward=-266.555184254\n",
      "Episode finished after 81 timesteps with reward=-233.680979697\n",
      "iter=5300\tepsilon=0.055\n",
      "Current score(mean over 3) = -269.332\n"
     ]
    },
    {
     "name": "stderr",
     "output_type": "stream",
     "text": [
      " 54%|█████▍    | 5399/10000 [23:41<20:11,  3.80it/s]"
     ]
    },
    {
     "name": "stdout",
     "output_type": "stream",
     "text": [
      "Episode finished after 106 timesteps with reward=-246.759175334\n",
      "Episode finished after 85 timesteps with reward=-294.809908357\n"
     ]
    },
    {
     "name": "stderr",
     "output_type": "stream",
     "text": [
      "\r",
      " 54%|█████▍    | 5400/10000 [23:42<20:11,  3.80it/s]"
     ]
    },
    {
     "name": "stdout",
     "output_type": "stream",
     "text": [
      "Episode finished after 93 timesteps with reward=-192.780445409\n",
      "iter=5400\tepsilon=0.054\n",
      "Current score(mean over 3) = -244.783\n"
     ]
    },
    {
     "name": "stderr",
     "output_type": "stream",
     "text": [
      " 55%|█████▍    | 5499/10000 [24:14<19:50,  3.78it/s]"
     ]
    },
    {
     "name": "stdout",
     "output_type": "stream",
     "text": [
      "Episode finished after 120 timesteps with reward=-293.868515587\n",
      "Episode finished after 80 timesteps with reward=-118.139648325\n",
      "Episode finished after 96 timesteps with reward=-308.206885927\n"
     ]
    },
    {
     "name": "stderr",
     "output_type": "stream",
     "text": [
      "\r",
      " 55%|█████▌    | 5500/10000 [24:15<19:50,  3.78it/s]"
     ]
    },
    {
     "name": "stdout",
     "output_type": "stream",
     "text": [
      "iter=5500\tepsilon=0.054\n",
      "Current score(mean over 3) = -240.072\n"
     ]
    },
    {
     "name": "stderr",
     "output_type": "stream",
     "text": [
      " 56%|█████▌    | 5600/10000 [24:43<19:25,  3.78it/s]"
     ]
    },
    {
     "name": "stdout",
     "output_type": "stream",
     "text": [
      "Episode finished after 80 timesteps with reward=-118.082217327\n",
      "Episode finished after 100 timesteps with reward=-87.395972694\n",
      "Episode finished after 87 timesteps with reward=-311.873706438\n",
      "iter=5600\tepsilon=0.054\n",
      "Current score(mean over 3) = -172.451\n"
     ]
    },
    {
     "name": "stderr",
     "output_type": "stream",
     "text": [
      " 57%|█████▋    | 5699/10000 [25:10<18:59,  3.77it/s]"
     ]
    },
    {
     "name": "stdout",
     "output_type": "stream",
     "text": [
      "Episode finished after 80 timesteps with reward=-136.370465738\n",
      "Episode finished after 115 timesteps with reward=-376.208971852\n"
     ]
    },
    {
     "name": "stderr",
     "output_type": "stream",
     "text": [
      " 57%|█████▋    | 5701/10000 [25:10<18:59,  3.77it/s]"
     ]
    },
    {
     "name": "stdout",
     "output_type": "stream",
     "text": [
      "Episode finished after 82 timesteps with reward=-147.088689949\n",
      "iter=5700\tepsilon=0.053\n",
      "Current score(mean over 3) = -219.889\n"
     ]
    },
    {
     "name": "stderr",
     "output_type": "stream",
     "text": [
      " 58%|█████▊    | 5799/10000 [25:35<18:32,  3.78it/s]"
     ]
    },
    {
     "name": "stdout",
     "output_type": "stream",
     "text": [
      "Episode finished after 84 timesteps with reward=-279.632176418\n",
      "Episode finished after 95 timesteps with reward=-183.596475432\n"
     ]
    },
    {
     "name": "stderr",
     "output_type": "stream",
     "text": [
      "\r",
      " 58%|█████▊    | 5800/10000 [25:36<18:32,  3.77it/s]"
     ]
    },
    {
     "name": "stdout",
     "output_type": "stream",
     "text": [
      "Episode finished after 128 timesteps with reward=-176.357378204\n",
      "iter=5800\tepsilon=0.053\n",
      "Current score(mean over 3) = -213.195\n"
     ]
    },
    {
     "name": "stderr",
     "output_type": "stream",
     "text": [
      " 59%|█████▉    | 5900/10000 [26:05<18:07,  3.77it/s]"
     ]
    },
    {
     "name": "stdout",
     "output_type": "stream",
     "text": [
      "Episode finished after 158 timesteps with reward=-501.518871843\n",
      "Episode finished after 97 timesteps with reward=-243.726853087\n",
      "Episode finished after 197 timesteps with reward=-198.539550389\n",
      "iter=5900\tepsilon=0.053\n",
      "Current score(mean over 3) = -314.595\n"
     ]
    },
    {
     "name": "stderr",
     "output_type": "stream",
     "text": [
      " 60%|██████    | 6000/10000 [26:28<17:38,  3.78it/s]"
     ]
    },
    {
     "name": "stdout",
     "output_type": "stream",
     "text": [
      "Episode finished after 74 timesteps with reward=-99.9540898707\n",
      "Episode finished after 103 timesteps with reward=-13.5439093372\n",
      "Episode finished after 92 timesteps with reward=-144.077084805\n",
      "iter=6000\tepsilon=0.052\n",
      "Current score(mean over 3) = -85.858\n"
     ]
    },
    {
     "name": "stderr",
     "output_type": "stream",
     "text": [
      " 61%|██████    | 6100/10000 [26:52<17:11,  3.78it/s]"
     ]
    },
    {
     "name": "stdout",
     "output_type": "stream",
     "text": [
      "Episode finished after 84 timesteps with reward=-177.101877091\n",
      "Episode finished after 89 timesteps with reward=-253.116162227\n",
      "Episode finished after 87 timesteps with reward=-115.771125065\n",
      "iter=6100\tepsilon=0.052\n",
      "Current score(mean over 3) = -181.996\n"
     ]
    },
    {
     "name": "stderr",
     "output_type": "stream",
     "text": [
      " 62%|██████▏   | 6199/10000 [27:20<16:45,  3.78it/s]"
     ]
    },
    {
     "name": "stdout",
     "output_type": "stream",
     "text": [
      "Episode finished after 145 timesteps with reward=-240.082680363\n",
      "Episode finished after 83 timesteps with reward=-125.664594823\n"
     ]
    },
    {
     "name": "stderr",
     "output_type": "stream",
     "text": [
      "\r",
      " 62%|██████▏   | 6200/10000 [27:21<16:45,  3.78it/s]"
     ]
    },
    {
     "name": "stdout",
     "output_type": "stream",
     "text": [
      "Episode finished after 76 timesteps with reward=-122.869702664\n",
      "iter=6200\tepsilon=0.052\n",
      "Current score(mean over 3) = -162.872\n"
     ]
    },
    {
     "name": "stderr",
     "output_type": "stream",
     "text": [
      " 63%|██████▎   | 6299/10000 [27:49<16:20,  3.77it/s]"
     ]
    },
    {
     "name": "stdout",
     "output_type": "stream",
     "text": [
      "Episode finished after 139 timesteps with reward=-151.809792758\n"
     ]
    },
    {
     "name": "stderr",
     "output_type": "stream",
     "text": [
      "\r",
      " 63%|██████▎   | 6300/10000 [27:50<16:20,  3.77it/s]"
     ]
    },
    {
     "name": "stdout",
     "output_type": "stream",
     "text": [
      "Episode finished after 108 timesteps with reward=-371.029368635\n",
      "Episode finished after 104 timesteps with reward=-294.599210612\n",
      "iter=6300\tepsilon=0.052\n",
      "Current score(mean over 3) = -272.479\n"
     ]
    },
    {
     "name": "stderr",
     "output_type": "stream",
     "text": [
      " 64%|██████▍   | 6399/10000 [28:17<15:55,  3.77it/s]"
     ]
    },
    {
     "name": "stdout",
     "output_type": "stream",
     "text": [
      "Episode finished after 191 timesteps with reward=-369.719168568\n",
      "Episode finished after 168 timesteps with reward=-365.1021172\n"
     ]
    },
    {
     "name": "stderr",
     "output_type": "stream",
     "text": [
      " 64%|██████▍   | 6401/10000 [28:18<15:55,  3.77it/s]"
     ]
    },
    {
     "name": "stdout",
     "output_type": "stream",
     "text": [
      "Episode finished after 120 timesteps with reward=-271.307070078\n",
      "iter=6400\tepsilon=0.052\n",
      "Current score(mean over 3) = -335.376\n"
     ]
    },
    {
     "name": "stderr",
     "output_type": "stream",
     "text": [
      " 65%|██████▍   | 6499/10000 [28:39<15:26,  3.78it/s]"
     ]
    },
    {
     "name": "stdout",
     "output_type": "stream",
     "text": [
      "Episode finished after 120 timesteps with reward=-97.8888471735\n",
      "Episode finished after 201 timesteps with reward=-302.837676597\n"
     ]
    },
    {
     "name": "stderr",
     "output_type": "stream",
     "text": [
      "\r",
      " 65%|██████▌   | 6500/10000 [28:40<15:26,  3.78it/s]"
     ]
    },
    {
     "name": "stdout",
     "output_type": "stream",
     "text": [
      "Episode finished after 112 timesteps with reward=-245.220195161\n",
      "iter=6500\tepsilon=0.051\n",
      "Current score(mean over 3) = -215.316\n"
     ]
    },
    {
     "name": "stderr",
     "output_type": "stream",
     "text": [
      " 66%|██████▌   | 6599/10000 [29:03<14:58,  3.79it/s]"
     ]
    },
    {
     "name": "stdout",
     "output_type": "stream",
     "text": [
      "Episode finished after 124 timesteps with reward=-348.268489762\n",
      "Episode finished after 98 timesteps with reward=-86.3581428972\n"
     ]
    },
    {
     "name": "stderr",
     "output_type": "stream",
     "text": [
      "\r",
      " 66%|██████▌   | 6600/10000 [29:04<14:58,  3.78it/s]"
     ]
    },
    {
     "name": "stdout",
     "output_type": "stream",
     "text": [
      "Episode finished after 96 timesteps with reward=-171.606567429\n",
      "iter=6600\tepsilon=0.051\n",
      "Current score(mean over 3) = -202.078\n"
     ]
    },
    {
     "name": "stderr",
     "output_type": "stream",
     "text": [
      " 67%|██████▋   | 6700/10000 [29:38<14:35,  3.77it/s]"
     ]
    },
    {
     "name": "stdout",
     "output_type": "stream",
     "text": [
      "Episode finished after 110 timesteps with reward=-352.285943496\n",
      "Episode finished after 101 timesteps with reward=-317.892566005\n",
      "Episode finished after 112 timesteps with reward=-71.7745562432\n",
      "iter=6700\tepsilon=0.051\n",
      "Current score(mean over 3) = -247.318\n"
     ]
    },
    {
     "name": "stderr",
     "output_type": "stream",
     "text": [
      " 68%|██████▊   | 6799/10000 [30:07<14:11,  3.76it/s]"
     ]
    },
    {
     "name": "stdout",
     "output_type": "stream",
     "text": [
      "Episode finished after 102 timesteps with reward=-285.621882052\n",
      "Episode finished after 79 timesteps with reward=-112.124921052\n"
     ]
    },
    {
     "name": "stderr",
     "output_type": "stream",
     "text": [
      "\r",
      " 68%|██████▊   | 6800/10000 [30:08<14:11,  3.76it/s]"
     ]
    },
    {
     "name": "stdout",
     "output_type": "stream",
     "text": [
      "Episode finished after 118 timesteps with reward=-231.00174441\n",
      "iter=6800\tepsilon=0.051\n",
      "Current score(mean over 3) = -209.583\n"
     ]
    },
    {
     "name": "stderr",
     "output_type": "stream",
     "text": [
      " 69%|██████▉   | 6900/10000 [30:33<13:43,  3.76it/s]"
     ]
    },
    {
     "name": "stdout",
     "output_type": "stream",
     "text": [
      "Episode finished after 121 timesteps with reward=-283.238247688\n",
      "Episode finished after 104 timesteps with reward=-259.028666522\n",
      "Episode finished after 144 timesteps with reward=-233.61683355\n",
      "iter=6900\tepsilon=0.051\n",
      "Current score(mean over 3) = -258.628\n"
     ]
    },
    {
     "name": "stderr",
     "output_type": "stream",
     "text": [
      " 70%|███████   | 7000/10000 [30:59<13:16,  3.76it/s]"
     ]
    },
    {
     "name": "stdout",
     "output_type": "stream",
     "text": [
      "Episode finished after 179 timesteps with reward=-364.483282872\n",
      "Episode finished after 128 timesteps with reward=-175.122171976\n",
      "Episode finished after 136 timesteps with reward=-72.5556711422\n",
      "iter=7000\tepsilon=0.051\n",
      "Current score(mean over 3) = -204.054\n"
     ]
    },
    {
     "name": "stderr",
     "output_type": "stream",
     "text": [
      " 71%|███████   | 7100/10000 [31:25<12:50,  3.76it/s]"
     ]
    },
    {
     "name": "stdout",
     "output_type": "stream",
     "text": [
      "Episode finished after 99 timesteps with reward=-243.596084448\n",
      "Episode finished after 121 timesteps with reward=-164.511787291\n",
      "Episode finished after 131 timesteps with reward=-209.577663882\n",
      "iter=7100\tepsilon=0.051\n",
      "Current score(mean over 3) = -205.895\n"
     ]
    },
    {
     "name": "stderr",
     "output_type": "stream",
     "text": [
      " 72%|███████▏  | 7200/10000 [31:52<12:23,  3.77it/s]"
     ]
    },
    {
     "name": "stdout",
     "output_type": "stream",
     "text": [
      "Episode finished after 172 timesteps with reward=-319.424254144\n",
      "Episode finished after 141 timesteps with reward=-408.404852751\n",
      "Episode finished after 115 timesteps with reward=-214.05753923\n",
      "iter=7200\tepsilon=0.051\n",
      "Current score(mean over 3) = -313.962\n"
     ]
    },
    {
     "name": "stderr",
     "output_type": "stream",
     "text": [
      " 73%|███████▎  | 7300/10000 [32:17<11:56,  3.77it/s]"
     ]
    },
    {
     "name": "stdout",
     "output_type": "stream",
     "text": [
      "Episode finished after 138 timesteps with reward=-247.037722192\n",
      "Episode finished after 114 timesteps with reward=-122.220993112\n",
      "Episode finished after 180 timesteps with reward=-283.167220453\n",
      "iter=7300\tepsilon=0.051\n",
      "Current score(mean over 3) = -217.475\n"
     ]
    },
    {
     "name": "stderr",
     "output_type": "stream",
     "text": [
      " 74%|███████▍  | 7400/10000 [32:42<11:29,  3.77it/s]"
     ]
    },
    {
     "name": "stdout",
     "output_type": "stream",
     "text": [
      "Episode finished after 124 timesteps with reward=-346.85106792\n",
      "Episode finished after 160 timesteps with reward=-244.697214671\n",
      "Episode finished after 145 timesteps with reward=-217.617988014\n",
      "iter=7400\tepsilon=0.051\n",
      "Current score(mean over 3) = -269.722\n"
     ]
    },
    {
     "name": "stderr",
     "output_type": "stream",
     "text": [
      " 75%|███████▍  | 7499/10000 [33:07<11:02,  3.77it/s]"
     ]
    },
    {
     "name": "stdout",
     "output_type": "stream",
     "text": [
      "Episode finished after 133 timesteps with reward=-198.663802656\n",
      "Episode finished after 128 timesteps with reward=-262.188860206\n"
     ]
    },
    {
     "name": "stderr",
     "output_type": "stream",
     "text": [
      "\r",
      " 75%|███████▌  | 7500/10000 [33:08<11:02,  3.77it/s]"
     ]
    },
    {
     "name": "stdout",
     "output_type": "stream",
     "text": [
      "Episode finished after 186 timesteps with reward=-253.921035579\n",
      "iter=7500\tepsilon=0.051\n",
      "Current score(mean over 3) = -238.258\n"
     ]
    },
    {
     "name": "stderr",
     "output_type": "stream",
     "text": [
      " 76%|███████▌  | 7599/10000 [33:32<10:35,  3.78it/s]"
     ]
    },
    {
     "name": "stdout",
     "output_type": "stream",
     "text": [
      "Episode finished after 187 timesteps with reward=-276.026427745\n",
      "Episode finished after 173 timesteps with reward=-242.733367425\n"
     ]
    },
    {
     "name": "stderr",
     "output_type": "stream",
     "text": [
      "\r",
      " 76%|███████▌  | 7600/10000 [33:33<10:35,  3.77it/s]"
     ]
    },
    {
     "name": "stdout",
     "output_type": "stream",
     "text": [
      "Episode finished after 161 timesteps with reward=-175.161231586\n",
      "iter=7600\tepsilon=0.050\n",
      "Current score(mean over 3) = -231.307\n"
     ]
    },
    {
     "name": "stderr",
     "output_type": "stream",
     "text": [
      " 77%|███████▋  | 7699/10000 [33:59<10:09,  3.77it/s]"
     ]
    },
    {
     "name": "stdout",
     "output_type": "stream",
     "text": [
      "Episode finished after 196 timesteps with reward=-279.084446694\n",
      "Episode finished after 213 timesteps with reward=-317.588239235\n"
     ]
    },
    {
     "name": "stderr",
     "output_type": "stream",
     "text": [
      "\r",
      " 77%|███████▋  | 7700/10000 [34:00<10:09,  3.77it/s]"
     ]
    },
    {
     "name": "stdout",
     "output_type": "stream",
     "text": [
      "Episode finished after 179 timesteps with reward=-202.635200015\n",
      "iter=7700\tepsilon=0.050\n",
      "Current score(mean over 3) = -266.436\n"
     ]
    },
    {
     "name": "stderr",
     "output_type": "stream",
     "text": [
      " 78%|███████▊  | 7799/10000 [34:27<09:43,  3.77it/s]"
     ]
    },
    {
     "name": "stdout",
     "output_type": "stream",
     "text": [
      "Episode finished after 202 timesteps with reward=-277.919120637\n",
      "Episode finished after 153 timesteps with reward=-246.490315043\n"
     ]
    },
    {
     "name": "stderr",
     "output_type": "stream",
     "text": [
      " 78%|███████▊  | 7801/10000 [34:28<09:42,  3.77it/s]"
     ]
    },
    {
     "name": "stdout",
     "output_type": "stream",
     "text": [
      "Episode finished after 214 timesteps with reward=-254.50573231\n",
      "iter=7800\tepsilon=0.050\n",
      "Current score(mean over 3) = -259.638\n"
     ]
    },
    {
     "name": "stderr",
     "output_type": "stream",
     "text": [
      " 79%|███████▉  | 7899/10000 [34:44<09:14,  3.79it/s]"
     ]
    },
    {
     "name": "stdout",
     "output_type": "stream",
     "text": [
      "Episode finished after 165 timesteps with reward=-298.418685277\n",
      "Episode finished after 185 timesteps with reward=-278.448754108\n"
     ]
    },
    {
     "name": "stderr",
     "output_type": "stream",
     "text": [
      " 79%|███████▉  | 7901/10000 [34:44<09:13,  3.79it/s]"
     ]
    },
    {
     "name": "stdout",
     "output_type": "stream",
     "text": [
      "Episode finished after 213 timesteps with reward=-197.708812314\n",
      "iter=7900\tepsilon=0.050\n",
      "Current score(mean over 3) = -258.192\n"
     ]
    },
    {
     "name": "stderr",
     "output_type": "stream",
     "text": [
      " 80%|███████▉  | 7999/10000 [35:00<08:45,  3.81it/s]"
     ]
    },
    {
     "name": "stdout",
     "output_type": "stream",
     "text": [
      "Episode finished after 239 timesteps with reward=-212.998581725\n",
      "Episode finished after 235 timesteps with reward=-263.572661437\n"
     ]
    },
    {
     "name": "stderr",
     "output_type": "stream",
     "text": [
      " 80%|████████  | 8001/10000 [35:01<08:44,  3.81it/s]"
     ]
    },
    {
     "name": "stdout",
     "output_type": "stream",
     "text": [
      "Episode finished after 164 timesteps with reward=-164.399786575\n",
      "iter=8000\tepsilon=0.050\n",
      "Current score(mean over 3) = -213.657\n"
     ]
    },
    {
     "name": "stderr",
     "output_type": "stream",
     "text": [
      " 81%|████████  | 8099/10000 [35:15<08:16,  3.83it/s]"
     ]
    },
    {
     "name": "stdout",
     "output_type": "stream",
     "text": [
      "Episode finished after 189 timesteps with reward=-183.478132657\n",
      "Episode finished after 113 timesteps with reward=-274.577828791\n"
     ]
    },
    {
     "name": "stderr",
     "output_type": "stream",
     "text": [
      " 81%|████████  | 8101/10000 [35:16<08:16,  3.83it/s]"
     ]
    },
    {
     "name": "stdout",
     "output_type": "stream",
     "text": [
      "Episode finished after 203 timesteps with reward=-370.954793828\n",
      "iter=8100\tepsilon=0.050\n",
      "Current score(mean over 3) = -276.337\n"
     ]
    },
    {
     "name": "stderr",
     "output_type": "stream",
     "text": [
      " 82%|████████▏ | 8199/10000 [35:29<07:47,  3.85it/s]"
     ]
    },
    {
     "name": "stdout",
     "output_type": "stream",
     "text": [
      "Episode finished after 132 timesteps with reward=-182.316058522\n"
     ]
    },
    {
     "name": "stderr",
     "output_type": "stream",
     "text": [
      "\r",
      " 82%|████████▏ | 8200/10000 [35:30<07:47,  3.85it/s]"
     ]
    },
    {
     "name": "stdout",
     "output_type": "stream",
     "text": [
      "Episode finished after 298 timesteps with reward=-422.375731496\n",
      "Episode finished after 183 timesteps with reward=-189.381528266\n",
      "iter=8200\tepsilon=0.050\n",
      "Current score(mean over 3) = -264.691\n"
     ]
    },
    {
     "name": "stderr",
     "output_type": "stream",
     "text": [
      " 83%|████████▎ | 8299/10000 [35:51<07:21,  3.86it/s]"
     ]
    },
    {
     "name": "stdout",
     "output_type": "stream",
     "text": [
      "Episode finished after 210 timesteps with reward=-205.624513673\n",
      "Episode finished after 116 timesteps with reward=-223.050572107\n"
     ]
    },
    {
     "name": "stderr",
     "output_type": "stream",
     "text": [
      " 83%|████████▎ | 8301/10000 [35:52<07:20,  3.86it/s]"
     ]
    },
    {
     "name": "stdout",
     "output_type": "stream",
     "text": [
      "Episode finished after 204 timesteps with reward=-356.355952027\n",
      "iter=8300\tepsilon=0.050\n",
      "Current score(mean over 3) = -261.677\n"
     ]
    },
    {
     "name": "stderr",
     "output_type": "stream",
     "text": [
      " 84%|████████▍ | 8399/10000 [36:25<06:56,  3.84it/s]"
     ]
    },
    {
     "name": "stdout",
     "output_type": "stream",
     "text": [
      "Episode finished after 123 timesteps with reward=-324.539826649\n",
      "Episode finished after 133 timesteps with reward=-146.354280173\n"
     ]
    },
    {
     "name": "stderr",
     "output_type": "stream",
     "text": [
      "\r",
      " 84%|████████▍ | 8400/10000 [36:27<06:56,  3.84it/s]"
     ]
    },
    {
     "name": "stdout",
     "output_type": "stream",
     "text": [
      "Episode finished after 157 timesteps with reward=-193.128711253\n",
      "iter=8400\tepsilon=0.050\n",
      "Current score(mean over 3) = -221.341\n"
     ]
    },
    {
     "name": "stderr",
     "output_type": "stream",
     "text": [
      " 85%|████████▍ | 8499/10000 [36:56<06:31,  3.84it/s]"
     ]
    },
    {
     "name": "stdout",
     "output_type": "stream",
     "text": [
      "Episode finished after 129 timesteps with reward=-252.017251447\n",
      "Episode finished after 164 timesteps with reward=-148.422608173\n"
     ]
    },
    {
     "name": "stderr",
     "output_type": "stream",
     "text": [
      "\r",
      " 85%|████████▌ | 8500/10000 [36:56<06:31,  3.83it/s]"
     ]
    },
    {
     "name": "stdout",
     "output_type": "stream",
     "text": [
      "Episode finished after 204 timesteps with reward=-136.193129397\n",
      "iter=8500\tepsilon=0.050\n",
      "Current score(mean over 3) = -178.878\n"
     ]
    },
    {
     "name": "stderr",
     "output_type": "stream",
     "text": [
      " 86%|████████▌ | 8599/10000 [37:15<06:04,  3.85it/s]"
     ]
    },
    {
     "name": "stdout",
     "output_type": "stream",
     "text": [
      "Episode finished after 234 timesteps with reward=-213.149203236\n",
      "Episode finished after 205 timesteps with reward=-115.172145668\n"
     ]
    },
    {
     "name": "stderr",
     "output_type": "stream",
     "text": [
      " 86%|████████▌ | 8601/10000 [37:17<06:03,  3.84it/s]"
     ]
    },
    {
     "name": "stdout",
     "output_type": "stream",
     "text": [
      "Episode finished after 226 timesteps with reward=-247.38596981\n",
      "iter=8600\tepsilon=0.050\n",
      "Current score(mean over 3) = -191.902\n"
     ]
    },
    {
     "name": "stderr",
     "output_type": "stream",
     "text": [
      " 87%|████████▋ | 8699/10000 [37:33<05:36,  3.86it/s]"
     ]
    },
    {
     "name": "stdout",
     "output_type": "stream",
     "text": [
      "Episode finished after 163 timesteps with reward=-170.502089484\n",
      "Episode finished after 187 timesteps with reward=-174.352503565\n"
     ]
    },
    {
     "name": "stderr",
     "output_type": "stream",
     "text": [
      " 87%|████████▋ | 8701/10000 [37:33<05:36,  3.86it/s]"
     ]
    },
    {
     "name": "stdout",
     "output_type": "stream",
     "text": [
      "Episode finished after 211 timesteps with reward=-112.204636722\n",
      "iter=8700\tepsilon=0.050\n",
      "Current score(mean over 3) = -152.353\n"
     ]
    },
    {
     "name": "stderr",
     "output_type": "stream",
     "text": [
      " 88%|████████▊ | 8800/10000 [37:55<05:10,  3.87it/s]"
     ]
    },
    {
     "name": "stdout",
     "output_type": "stream",
     "text": [
      "Episode finished after 187 timesteps with reward=-359.766782181\n",
      "Episode finished after 113 timesteps with reward=-166.282449724\n",
      "Episode finished after 151 timesteps with reward=-149.300752221\n",
      "iter=8800\tepsilon=0.050\n",
      "Current score(mean over 3) = -225.117\n"
     ]
    },
    {
     "name": "stderr",
     "output_type": "stream",
     "text": [
      " 89%|████████▉ | 8900/10000 [38:14<04:43,  3.88it/s]"
     ]
    },
    {
     "name": "stdout",
     "output_type": "stream",
     "text": [
      "Episode finished after 212 timesteps with reward=-145.221478903\n",
      "Episode finished after 144 timesteps with reward=-77.2963570563\n",
      "Episode finished after 124 timesteps with reward=-232.381163176\n",
      "iter=8900\tepsilon=0.050\n",
      "Current score(mean over 3) = -151.633\n"
     ]
    },
    {
     "name": "stderr",
     "output_type": "stream",
     "text": [
      " 90%|████████▉ | 8999/10000 [38:30<04:16,  3.90it/s]"
     ]
    },
    {
     "name": "stdout",
     "output_type": "stream",
     "text": [
      "Episode finished after 183 timesteps with reward=-225.921507377\n",
      "Episode finished after 147 timesteps with reward=-190.452231681\n"
     ]
    },
    {
     "name": "stderr",
     "output_type": "stream",
     "text": [
      " 90%|█████████ | 9001/10000 [38:31<04:16,  3.89it/s]"
     ]
    },
    {
     "name": "stdout",
     "output_type": "stream",
     "text": [
      "Episode finished after 158 timesteps with reward=-345.055385168\n",
      "iter=9000\tepsilon=0.050\n",
      "Current score(mean over 3) = -253.810\n"
     ]
    },
    {
     "name": "stderr",
     "output_type": "stream",
     "text": [
      " 91%|█████████ | 9099/10000 [38:49<03:50,  3.91it/s]"
     ]
    },
    {
     "name": "stdout",
     "output_type": "stream",
     "text": [
      "Episode finished after 128 timesteps with reward=-313.90745445\n",
      "Episode finished after 166 timesteps with reward=-386.034071865\n"
     ]
    },
    {
     "name": "stderr",
     "output_type": "stream",
     "text": [
      " 91%|█████████ | 9101/10000 [38:50<03:50,  3.91it/s]"
     ]
    },
    {
     "name": "stdout",
     "output_type": "stream",
     "text": [
      "Episode finished after 134 timesteps with reward=-281.872902921\n",
      "iter=9100\tepsilon=0.050\n",
      "Current score(mean over 3) = -327.271\n"
     ]
    },
    {
     "name": "stderr",
     "output_type": "stream",
     "text": [
      " 92%|█████████▏| 9199/10000 [39:10<03:24,  3.91it/s]"
     ]
    },
    {
     "name": "stdout",
     "output_type": "stream",
     "text": [
      "Episode finished after 177 timesteps with reward=-250.796005041\n"
     ]
    },
    {
     "name": "stderr",
     "output_type": "stream",
     "text": [
      "\r",
      " 92%|█████████▏| 9200/10000 [39:11<03:24,  3.91it/s]"
     ]
    },
    {
     "name": "stdout",
     "output_type": "stream",
     "text": [
      "Episode finished after 190 timesteps with reward=-91.1224961296\n",
      "Episode finished after 159 timesteps with reward=-89.0125668699\n",
      "iter=9200\tepsilon=0.050\n",
      "Current score(mean over 3) = -143.644\n"
     ]
    },
    {
     "name": "stderr",
     "output_type": "stream",
     "text": [
      " 93%|█████████▎| 9299/10000 [39:29<02:58,  3.92it/s]"
     ]
    },
    {
     "name": "stdout",
     "output_type": "stream",
     "text": [
      "Episode finished after 124 timesteps with reward=-209.723324135\n",
      "Episode finished after 175 timesteps with reward=-294.472337087\n"
     ]
    },
    {
     "name": "stderr",
     "output_type": "stream",
     "text": [
      " 93%|█████████▎| 9301/10000 [39:30<02:58,  3.92it/s]"
     ]
    },
    {
     "name": "stdout",
     "output_type": "stream",
     "text": [
      "Episode finished after 200 timesteps with reward=-261.938471504\n",
      "iter=9300\tepsilon=0.050\n",
      "Current score(mean over 3) = -255.378\n"
     ]
    },
    {
     "name": "stderr",
     "output_type": "stream",
     "text": [
      " 94%|█████████▍| 9399/10000 [40:00<02:33,  3.92it/s]"
     ]
    },
    {
     "name": "stdout",
     "output_type": "stream",
     "text": [
      "Episode finished after 215 timesteps with reward=-224.521407531\n",
      "Episode finished after 229 timesteps with reward=-200.543433155\n"
     ]
    },
    {
     "name": "stderr",
     "output_type": "stream",
     "text": [
      "\r",
      " 94%|█████████▍| 9400/10000 [40:00<02:33,  3.92it/s]"
     ]
    },
    {
     "name": "stdout",
     "output_type": "stream",
     "text": [
      "Episode finished after 169 timesteps with reward=-167.308501448\n",
      "iter=9400\tepsilon=0.050\n",
      "Current score(mean over 3) = -197.458\n"
     ]
    },
    {
     "name": "stderr",
     "output_type": "stream",
     "text": [
      " 95%|█████████▍| 9499/10000 [40:27<02:08,  3.91it/s]"
     ]
    },
    {
     "name": "stdout",
     "output_type": "stream",
     "text": [
      "Episode finished after 201 timesteps with reward=-169.860277283\n",
      "Episode finished after 251 timesteps with reward=-229.408867869\n"
     ]
    },
    {
     "name": "stderr",
     "output_type": "stream",
     "text": [
      "\r",
      " 95%|█████████▌| 9500/10000 [40:27<02:07,  3.91it/s]"
     ]
    },
    {
     "name": "stdout",
     "output_type": "stream",
     "text": [
      "Episode finished after 200 timesteps with reward=-67.2108453942\n",
      "iter=9500\tepsilon=0.050\n",
      "Current score(mean over 3) = -155.493\n"
     ]
    },
    {
     "name": "stderr",
     "output_type": "stream",
     "text": [
      " 96%|█████████▌| 9599/10000 [40:54<01:42,  3.91it/s]"
     ]
    },
    {
     "name": "stdout",
     "output_type": "stream",
     "text": [
      "Episode finished after 260 timesteps with reward=-186.650987321\n"
     ]
    },
    {
     "name": "stderr",
     "output_type": "stream",
     "text": [
      "\r",
      " 96%|█████████▌| 9600/10000 [40:55<01:42,  3.91it/s]"
     ]
    },
    {
     "name": "stdout",
     "output_type": "stream",
     "text": [
      "Episode finished after 272 timesteps with reward=-206.422838596\n",
      "Episode finished after 206 timesteps with reward=-156.217032186\n",
      "iter=9600\tepsilon=0.050\n",
      "Current score(mean over 3) = -183.097\n"
     ]
    },
    {
     "name": "stderr",
     "output_type": "stream",
     "text": [
      " 97%|█████████▋| 9699/10000 [41:21<01:17,  3.91it/s]"
     ]
    },
    {
     "name": "stdout",
     "output_type": "stream",
     "text": [
      "Episode finished after 138 timesteps with reward=-47.1625022814\n",
      "Episode finished after 300 timesteps with reward=-221.773101318\n"
     ]
    },
    {
     "name": "stderr",
     "output_type": "stream",
     "text": [
      "\r",
      " 97%|█████████▋| 9700/10000 [41:23<01:16,  3.91it/s]"
     ]
    },
    {
     "name": "stdout",
     "output_type": "stream",
     "text": [
      "Episode finished after 288 timesteps with reward=-206.054599577\n",
      "iter=9700\tepsilon=0.050\n",
      "Current score(mean over 3) = -158.330\n"
     ]
    },
    {
     "name": "stderr",
     "output_type": "stream",
     "text": [
      " 98%|█████████▊| 9799/10000 [41:52<00:51,  3.90it/s]"
     ]
    },
    {
     "name": "stdout",
     "output_type": "stream",
     "text": [
      "Episode finished after 628 timesteps with reward=-232.287001448\n",
      "Episode finished after 513 timesteps with reward=-254.986566499\n"
     ]
    },
    {
     "name": "stderr",
     "output_type": "stream",
     "text": [
      "\r",
      " 98%|█████████▊| 9800/10000 [41:55<00:51,  3.90it/s]"
     ]
    },
    {
     "name": "stdout",
     "output_type": "stream",
     "text": [
      "Episode finished after 321 timesteps with reward=-171.875114558\n",
      "iter=9800\tepsilon=0.050\n",
      "Current score(mean over 3) = -219.716\n"
     ]
    },
    {
     "name": "stderr",
     "output_type": "stream",
     "text": [
      " 99%|█████████▉| 9899/10000 [42:25<00:25,  3.89it/s]"
     ]
    },
    {
     "name": "stdout",
     "output_type": "stream",
     "text": [
      "Episode finished after 647 timesteps with reward=-259.400259523\n",
      "Episode finished after 900 timesteps with reward=-366.688521452\n"
     ]
    },
    {
     "name": "stderr",
     "output_type": "stream",
     "text": [
      "\r",
      " 99%|█████████▉| 9900/10000 [42:30<00:25,  3.88it/s]"
     ]
    },
    {
     "name": "stdout",
     "output_type": "stream",
     "text": [
      "Episode finished after 1000 timesteps with reward=-214.079483133\n",
      "iter=9900\tepsilon=0.050\n",
      "Current score(mean over 3) = -280.056\n"
     ]
    },
    {
     "name": "stderr",
     "output_type": "stream",
     "text": [
      "100%|█████████▉| 9999/10000 [43:05<00:00,  3.87it/s]"
     ]
    },
    {
     "name": "stdout",
     "output_type": "stream",
     "text": [
      "Episode finished after 1000 timesteps with reward=-195.580779713\n",
      "Episode finished after 1000 timesteps with reward=-183.922098613\n"
     ]
    },
    {
     "name": "stderr",
     "output_type": "stream",
     "text": [
      "\r",
      "100%|██████████| 10000/10000 [43:15<00:00,  3.85it/s]"
     ]
    },
    {
     "name": "stdout",
     "output_type": "stream",
     "text": [
      "Episode finished after 645 timesteps with reward=-219.62573046\n",
      "iter=10000\tepsilon=0.050\n",
      "Current score(mean over 3) = -199.710\n"
     ]
    },
    {
     "name": "stderr",
     "output_type": "stream",
     "text": [
      "\n"
     ]
    }
   ],
   "source": [
    "from tqdm import trange\n",
    "\n",
    "for i in trange(10000):    \n",
    "    \n",
    "    #play\n",
    "    for _ in range(5):\n",
    "        pool.update(SEQ_LENGTH,append=True)\n",
    "    \n",
    "    #train\n",
    "    train_step()\n",
    "    \n",
    "    #update epsilon\n",
    "    epsilon = 0.05 + 0.95*np.exp(-epoch_counter/1000.)\n",
    "    action_layer.epsilon.set_value(np.float32(epsilon))\n",
    "    \n",
    "    #play a few games for evaluation\n",
    "    if epoch_counter%100==0:\n",
    "        rewards[epoch_counter] = np.mean(pool.evaluate(n_games=3,record_video=False))\n",
    "        print(\"iter=%i\\tepsilon=%.3f\"%(epoch_counter,action_layer.epsilon.get_value(),))\n",
    "        print(\"Current score(mean over %i) = %.3f\"%(3,np.mean(rewards[epoch_counter])))\n",
    "    \n",
    "        if rewards[epoch_counter] >= target_score:\n",
    "            print(\"You win!\")\n",
    "            break\n",
    "\n",
    "    \n",
    "    epoch_counter  +=1\n",
    "\n",
    "    \n",
    "# Time to drink some coffee!"
   ]
  },
  {
   "cell_type": "code",
   "execution_count": 106,
   "metadata": {},
   "outputs": [
    {
     "name": "stderr",
     "output_type": "stream",
     "text": [
      "/home/kirill/anaconda2/lib/python2.7/site-packages/ipykernel_launcher.py:3: FutureWarning: pd.ewm_mean is deprecated for ndarrays and will be removed in a future version\n",
      "  This is separate from the ipykernel package so we can avoid doing imports until\n"
     ]
    },
    {
     "data": {
      "text/plain": [
       "[<matplotlib.lines.Line2D at 0x7fb03a892f10>]"
      ]
     },
     "execution_count": 106,
     "metadata": {},
     "output_type": "execute_result"
    },
    {
     "data": {
      "image/png": "[encoded data removed]",
      "text/plain": [
       "<matplotlib.figure.Figure at 0x7fb04d5a7bd0>"
      ]
     },
     "metadata": {},
     "output_type": "display_data"
    }
   ],
   "source": [
    "from pandas import ewma\n",
    "iters,session_rewards=zip(*sorted(rewards.items(),key=lambda item:item[0]))\n",
    "plt.plot(iters,ewma(np.array(session_rewards),span=10))"
   ]
  },
  {
   "cell_type": "code",
   "execution_count": 107,
   "metadata": {},
   "outputs": [
    {
     "name": "stdout",
     "output_type": "stream",
     "text": [
      "Episode finished after 1000 timesteps with reward=-166.811609045\n",
      "Episode finished after 1000 timesteps with reward=-184.979596564\n",
      "Episode finished after 1000 timesteps with reward=-212.056512488\n",
      "Episode finished after 1000 timesteps with reward=-166.29234887\n",
      "Episode finished after 1000 timesteps with reward=-189.565313199\n",
      "Episode finished after 445 timesteps with reward=-163.834728391\n",
      "Episode finished after 1000 timesteps with reward=-186.007294513\n",
      "Episode finished after 1000 timesteps with reward=-189.234311853\n",
      "Episode finished after 1000 timesteps with reward=-181.160740547\n",
      "Episode finished after 1000 timesteps with reward=-158.127437599\n",
      "('average reward:', [-166.81160904523071, -184.97959656376196, -212.05651248780507, -166.29234886963886, -189.56531319896996, -163.83472839137329, -186.00729451258837, -189.23431185282263, -181.16074054659018, -158.12743759854433])\n"
     ]
    }
   ],
   "source": [
    "final_reward = pool.evaluate(n_games=10,save_path=\"./records\",record_video=True)\n",
    "\n",
    "print(\"average reward:\",final_reward)\n",
    "\n",
    "video_names = list(filter(lambda s:s.endswith(\".mp4\"),os.listdir(\"./records/\")))\n",
    "\n",
    "for video_name in video_names:\n",
    "    HTML(\"\"\"\n",
    "    <video width=\"640\" height=\"480\" controls>\n",
    "      <source src=\"{}\" type=\"video/mp4\">\n",
    "    </video>\n",
    "    \"\"\".format(\"./records/\"+video_name)) #this may or may not be _last_ video. Try other indices"
   ]
  },
  {
   "cell_type": "code",
   "execution_count": null,
   "metadata": {
    "collapsed": true
   },
   "outputs": [],
   "source": []
  }
 ],
 "metadata": {
  "kernelspec": {
   "display_name": "Python 2",
   "language": "python",
   "name": "python2"
  },
  "language_info": {
   "codemirror_mode": {
    "name": "ipython",
    "version": 2
   },
   "file_extension": ".py",
   "mimetype": "text/x-python",
   "name": "python",
   "nbconvert_exporter": "python",
   "pygments_lexer": "ipython2",
   "version": "2.7.14"
  }
 },
 "nbformat": 4,
 "nbformat_minor": 1
}
